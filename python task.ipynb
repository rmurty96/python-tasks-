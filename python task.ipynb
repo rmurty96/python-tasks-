{
 "cells": [
  {
   "cell_type": "code",
   "execution_count": 1,
   "id": "a07ad952",
   "metadata": {},
   "outputs": [],
   "source": [
    "s= \"this is My First Python programming class and i am learNING python string and its function\""
   ]
  },
  {
   "cell_type": "code",
   "execution_count": 4,
   "id": "837b4d99",
   "metadata": {},
   "outputs": [
    {
     "data": {
      "text/plain": [
       "'h   r tnrrmglsnimeNGyosi dtfco'"
      ]
     },
     "execution_count": 4,
     "metadata": {},
     "output_type": "execute_result"
    }
   ],
   "source": [
    "s[1:300:3] #Q1"
   ]
  },
  {
   "cell_type": "code",
   "execution_count": 9,
   "id": "0e4fdd37",
   "metadata": {},
   "outputs": [
    {
     "data": {
      "text/plain": [
       "'noitcnuf sti dna gnirts nohtyp GNINrael ma i dna ssalc gnimmargorp nohtyP tsriF yM si siht'"
      ]
     },
     "execution_count": 9,
     "metadata": {},
     "output_type": "execute_result"
    }
   ],
   "source": [
    "s[::-1] #Q2"
   ]
  },
  {
   "cell_type": "code",
   "execution_count": 15,
   "id": "cb472956",
   "metadata": {},
   "outputs": [
    {
     "data": {
      "text/plain": [
       "'THIS IS MY FIRST PYTHON PROGRAMMING CLASS AND I AM LEARNING PYTHON STRING AND ITS FUNCTION'"
      ]
     },
     "execution_count": 15,
     "metadata": {},
     "output_type": "execute_result"
    }
   ],
   "source": [
    "s.upper() #Q3"
   ]
  },
  {
   "cell_type": "code",
   "execution_count": 12,
   "id": "d7f77504",
   "metadata": {},
   "outputs": [],
   "source": [
    "s1=s.upper()"
   ]
  },
  {
   "cell_type": "code",
   "execution_count": 13,
   "id": "e82e4edd",
   "metadata": {},
   "outputs": [
    {
     "data": {
      "text/plain": [
       "'THIS IS MY FIRST PYTHON PROGRAMMING CLASS AND I AM LEARNING PYTHON STRING AND ITS FUNCTION'"
      ]
     },
     "execution_count": 13,
     "metadata": {},
     "output_type": "execute_result"
    }
   ],
   "source": [
    "s1"
   ]
  },
  {
   "cell_type": "code",
   "execution_count": 14,
   "id": "9d3c398d",
   "metadata": {},
   "outputs": [
    {
     "data": {
      "text/plain": [
       "['THIS IS ',\n",
       " 'Y FIRST PYTHON PROGRA',\n",
       " '',\n",
       " 'ING CLASS AND I A',\n",
       " ' LEARNING PYTHON STRING AND ITS FUNCTION']"
      ]
     },
     "execution_count": 14,
     "metadata": {},
     "output_type": "execute_result"
    }
   ],
   "source": [
    "s1.split('M')"
   ]
  },
  {
   "cell_type": "code",
   "execution_count": 17,
   "id": "53d846f7",
   "metadata": {},
   "outputs": [
    {
     "data": {
      "text/plain": [
       "'this is my first python programming class and i am learning python string and its function'"
      ]
     },
     "execution_count": 17,
     "metadata": {},
     "output_type": "execute_result"
    }
   ],
   "source": [
    "s1.lower() #Q4"
   ]
  },
  {
   "cell_type": "code",
   "execution_count": 18,
   "id": "67ea7baf",
   "metadata": {},
   "outputs": [],
   "source": [
    "s2=s1.lower()"
   ]
  },
  {
   "cell_type": "code",
   "execution_count": 19,
   "id": "685f5ef7",
   "metadata": {},
   "outputs": [
    {
     "data": {
      "text/plain": [
       "'this is my first python programming class and i am learning python string and its function'"
      ]
     },
     "execution_count": 19,
     "metadata": {},
     "output_type": "execute_result"
    }
   ],
   "source": [
    "s2"
   ]
  },
  {
   "cell_type": "code",
   "execution_count": 21,
   "id": "226afc65",
   "metadata": {},
   "outputs": [
    {
     "data": {
      "text/plain": [
       "'This is my first python programming class and i am learning python string and its function'"
      ]
     },
     "execution_count": 21,
     "metadata": {},
     "output_type": "execute_result"
    }
   ],
   "source": [
    "s2.capitalize() #Q5"
   ]
  },
  {
   "cell_type": "code",
   "execution_count": 26,
   "id": "d227ff98",
   "metadata": {},
   "outputs": [
    {
     "data": {
      "text/plain": [
       "'isanum() gives output as false if the space is left blank rest in all cases it gives true i.e is alphabet only, number only, combination of alphabet and number '"
      ]
     },
     "execution_count": 26,
     "metadata": {},
     "output_type": "execute_result"
    }
   ],
   "source": [
    "#Q6 \"\"\" isalpha() function gives output as true if all the characters are alphabet only,if number is present with alphabet or only alphabet it gives false\"\"\"\n",
    "\"\"\"isanum() gives output as false if the space is left blank rest in all cases it gives true i.e is alphabet only, number only, combination of alphabet and number \"\"\""
   ]
  },
  {
   "cell_type": "code",
   "execution_count": 30,
   "id": "fe12c6ec",
   "metadata": {},
   "outputs": [],
   "source": [
    "k= 'my\\tname\\tis\\trohit' # Q7"
   ]
  },
  {
   "cell_type": "code",
   "execution_count": 29,
   "id": "c899bd1d",
   "metadata": {},
   "outputs": [
    {
     "data": {
      "text/plain": [
       "'my      name    is      rohit'"
      ]
     },
     "execution_count": 29,
     "metadata": {},
     "output_type": "execute_result"
    }
   ],
   "source": [
    "k.expandtabs()"
   ]
  },
  {
   "cell_type": "code",
   "execution_count": 34,
   "id": "18e03a4e",
   "metadata": {},
   "outputs": [
    {
     "data": {
      "text/plain": [
       "'my   first  programming   class'"
      ]
     },
     "execution_count": 34,
     "metadata": {},
     "output_type": "execute_result"
    }
   ],
   "source": [
    "j=\"   my   first  programming   class   \"  #Q8\n",
    "j.strip()"
   ]
  },
  {
   "cell_type": "code",
   "execution_count": 35,
   "id": "28335277",
   "metadata": {},
   "outputs": [
    {
     "data": {
      "text/plain": [
       "'my   first  programming   class   '"
      ]
     },
     "execution_count": 35,
     "metadata": {},
     "output_type": "execute_result"
    }
   ],
   "source": [
    "j.lstrip()"
   ]
  },
  {
   "cell_type": "code",
   "execution_count": 36,
   "id": "772f20f5",
   "metadata": {},
   "outputs": [
    {
     "data": {
      "text/plain": [
       "'   my   first  programming   class'"
      ]
     },
     "execution_count": 36,
     "metadata": {},
     "output_type": "execute_result"
    }
   ],
   "source": [
    "j.rstrip()"
   ]
  },
  {
   "cell_type": "code",
   "execution_count": 37,
   "id": "4875f4a3",
   "metadata": {},
   "outputs": [],
   "source": [
    "t= 'rohit murty'  # Q9"
   ]
  },
  {
   "cell_type": "code",
   "execution_count": 48,
   "id": "9934a7e7",
   "metadata": {},
   "outputs": [
    {
     "name": "stdout",
     "output_type": "stream",
     "text": [
      "zohit muzty\n"
     ]
    }
   ],
   "source": [
    "print(t.replace('r','z'))"
   ]
  },
  {
   "cell_type": "code",
   "execution_count": 49,
   "id": "5145b195",
   "metadata": {},
   "outputs": [],
   "source": [
    "#Q10 ''' the string center function takes two parameters  width and characters which is optional can be filled if needed."
   ]
  },
  {
   "cell_type": "code",
   "execution_count": 50,
   "id": "224a6348",
   "metadata": {},
   "outputs": [],
   "source": [
    "# Q11 compiler translates entire  source code in any language to machine code at once\n",
    "# Q11 interpreter translates the code line by line one line after the other"
   ]
  },
  {
   "cell_type": "code",
   "execution_count": 51,
   "id": "77a0881d",
   "metadata": {},
   "outputs": [],
   "source": [
    "# Q13 1.python is used in gaming \n",
    "# 2 development of gui of web pages \n",
    "# 3 in developent of artificial intelligence applications "
   ]
  },
  {
   "cell_type": "code",
   "execution_count": null,
   "id": "4efd70de",
   "metadata": {},
   "outputs": [],
   "source": []
  }
 ],
 "metadata": {
  "kernelspec": {
   "display_name": "Python 3 (ipykernel)",
   "language": "python",
   "name": "python3"
  },
  "language_info": {
   "codemirror_mode": {
    "name": "ipython",
    "version": 3
   },
   "file_extension": ".py",
   "mimetype": "text/x-python",
   "name": "python",
   "nbconvert_exporter": "python",
   "pygments_lexer": "ipython3",
   "version": "3.9.12"
  }
 },
 "nbformat": 4,
 "nbformat_minor": 5
}
